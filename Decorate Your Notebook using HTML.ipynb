{
 "cells": [
  {
   "cell_type": "markdown",
   "id": "9f9719e5",
   "metadata": {},
   "source": [
    "## To align the title at the center of the Notebook"
   ]
  },
  {
   "cell_type": "markdown",
   "id": "a3221384",
   "metadata": {},
   "source": [
    "<div style=\"text-align: center;\">\n",
    "    To align the title at the center of the Notebook\n",
    "</div>"
   ]
  },
  {
   "cell_type": "code",
   "execution_count": null,
   "id": "e6464bf0",
   "metadata": {},
   "outputs": [],
   "source": [
    "<div style=\"text-align: center;\">\n",
    "    # Place your title here\n",
    "</div>"
   ]
  },
  {
   "cell_type": "markdown",
   "id": "a98a9f7e",
   "metadata": {},
   "source": [
    "## To align the title at the center of the Notebook with colors"
   ]
  },
  {
   "cell_type": "markdown",
   "id": "f2c78dd3",
   "metadata": {},
   "source": [
    "<div style=\"text-align: center; color: red;\">\n",
    "    ### To align the title at the center of the Notebook with colors\n",
    "</div>"
   ]
  },
  {
   "cell_type": "code",
   "execution_count": null,
   "id": "ab65e016",
   "metadata": {},
   "outputs": [],
   "source": [
    "<div style=\"text-align: center; color: red;\">\n",
    "    ### To align the title at the center of the Notebook with colors\n",
    "</div>"
   ]
  }
 ],
 "metadata": {
  "kernelspec": {
   "display_name": "Python 3 (ipykernel)",
   "language": "python",
   "name": "python3"
  },
  "language_info": {
   "codemirror_mode": {
    "name": "ipython",
    "version": 3
   },
   "file_extension": ".py",
   "mimetype": "text/x-python",
   "name": "python",
   "nbconvert_exporter": "python",
   "pygments_lexer": "ipython3",
   "version": "3.9.13"
  }
 },
 "nbformat": 4,
 "nbformat_minor": 5
}
